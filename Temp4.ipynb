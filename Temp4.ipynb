{
 "cells": [
  {
   "cell_type": "code",
   "execution_count": 2,
   "metadata": {},
   "outputs": [
    {
     "data": {
      "application/vnd.jupyter.widget-view+json": {
       "model_id": "bec99ed81bd84ba3a98b62de19a4058a",
       "version_major": 2,
       "version_minor": 0
      },
      "text/plain": [
       "VBox(children=(IntSlider(value=0), IntSlider(value=0)))"
      ]
     },
     "metadata": {},
     "output_type": "display_data"
    }
   ],
   "source": [
    "from ipywidgets import VBox, IntSlider\n",
    "\n",
    "s3, s4 = IntSlider(), IntSlider()\n",
    "VBox([s3, s4])"
   ]
  },
  {
   "cell_type": "code",
   "execution_count": null,
   "metadata": {},
   "outputs": [],
   "source": []
  }
 ],
 "metadata": {
  "hide_input": false,
  "kernelspec": {
   "display_name": "Python 3",
   "language": "python",
   "name": "python3"
  },
  "language_info": {
   "codemirror_mode": {
    "name": "ipython",
    "version": 3
   },
   "file_extension": ".py",
   "mimetype": "text/x-python",
   "name": "python",
   "nbconvert_exporter": "python",
   "pygments_lexer": "ipython3",
   "version": "3.7.1"
  },
  "toc": {
   "base_numbering": 1,
   "nav_menu": {},
   "number_sections": false,
   "sideBar": true,
   "skip_h1_title": false,
   "title_cell": "Table of Contents",
   "title_sidebar": "Contents",
   "toc_cell": false,
   "toc_position": {
    "height": "586px",
    "left": "21px",
    "top": "246px",
    "width": "310px"
   },
   "toc_section_display": true,
   "toc_window_display": false
  },
  "widgets": {
   "application/vnd.jupyter.widget-state+json": {
    "state": {
     "06e77efbc73c4e84a41fba5dbe297e4d": {
      "model_module": "@jupyter-widgets/controls",
      "model_module_version": "1.4.0",
      "model_name": "VBoxModel",
      "state": {
       "children": [
        "IPY_MODEL_f46b30cf44bd4bfcb53e1556717f4fd8",
        "IPY_MODEL_60e30360b17341848544e462e8da5c20"
       ],
       "layout": "IPY_MODEL_3cb8157e6ce144919ae9d33f3dd23733"
      }
     },
     "097b0f68a1aa495f9f625a2647fd0f79": {
      "model_module": "@jupyter-widgets/controls",
      "model_module_version": "1.4.0",
      "model_name": "TextModel",
      "state": {
       "layout": "IPY_MODEL_8361cb5add3e4189b41172e3d1953e57",
       "style": "IPY_MODEL_c72ba427ec184724960e7cfcc707634c",
       "value": "33489"
      }
     },
     "0c1eb83b7dc24a44bcf4f7095c13f70d": {
      "model_module": "@jupyter-widgets/controls",
      "model_module_version": "1.4.0",
      "model_name": "ButtonStyleModel",
      "state": {}
     },
     "0d488249598f4bd4a18e1bee4736a541": {
      "buffers": [
       {
        "data": "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",
        "encoding": "base64",
        "path": [
         "value"
        ]
       }
      ],
      "model_module": "@jupyter-widgets/controls",
      "model_module_version": "1.4.0",
      "model_name": "ImageModel",
      "state": {
       "height": "300",
       "layout": "IPY_MODEL_2d5b9a92e8ba40a78c33b9311417d283",
       "value": {},
       "width": "400"
      }
     },
     "0e64aa1e43fd467f9972ffb5afb72564": {
      "model_module": "@jupyter-widgets/controls",
      "model_module_version": "1.4.0",
      "model_name": "IntSliderModel",
      "state": {
       "layout": "IPY_MODEL_fbde1733728945e4b2b428d1d20a3ff5",
       "max": 110,
       "style": "IPY_MODEL_a3c43ba25a8b483f9e0d7da508d2586e",
       "value": 75
      }
     },
     "0fb6fbffc8044111bb3cc9dfb8e0ad8e": {
      "model_module": "@jupyter-widgets/controls",
      "model_module_version": "1.4.0",
      "model_name": "DescriptionStyleModel",
      "state": {
       "description_width": ""
      }
     },
     "13a95bbb45b4432db1bbb27df5fad304": {
      "model_module": "@jupyter-widgets/base",
      "model_module_version": "1.1.0",
      "model_name": "LayoutModel",
      "state": {
       "min_width": "125px"
      }
     },
     "13bb576137b34de0b156765a8092c3c1": {
      "model_module": "@jupyter-widgets/controls",
      "model_module_version": "1.4.0",
      "model_name": "HBoxModel",
      "state": {
       "children": [
        "IPY_MODEL_e0ba9c0141944c7591ab7056785c3cb2",
        "IPY_MODEL_70274f8bc2e245578cdd10fbb5e9c462"
       ],
       "layout": "IPY_MODEL_ed0fc6c12826493a82dc509b7a269143"
      }
     },
     "16bccf1806604a648f8a765e8e76046a": {
      "model_module": "@jupyter-widgets/controls",
      "model_module_version": "1.4.0",
      "model_name": "IntSliderModel",
      "state": {
       "layout": "IPY_MODEL_ce32874ce34145d99e82c56abb54b4de",
       "max": 93,
       "style": "IPY_MODEL_25e3cc9d84284838b2a0cf1c0615dd0e",
       "value": 41
      }
     },
     "173496b4f6784499b92255c111235ebc": {
      "model_module": "@jupyter-widgets/base",
      "model_module_version": "1.1.0",
      "model_name": "LayoutModel",
      "state": {}
     },
     "17f1c7a3949c4c60933304f916c6c737": {
      "model_module": "@jupyter-widgets/controls",
      "model_module_version": "1.4.0",
      "model_name": "SliderStyleModel",
      "state": {
       "description_width": ""
      }
     },
     "1a330ec7ad08413899d84ece798fd14c": {
      "model_module": "@jupyter-widgets/controls",
      "model_module_version": "1.4.0",
      "model_name": "IntSliderModel",
      "state": {
       "layout": "IPY_MODEL_d52e5bafad3d4a8ba2384e30211e6aa8",
       "style": "IPY_MODEL_3bd1dd54eda04985b8bf2c64b79f1955",
       "value": 40
      }
     },
     "1af62720d54349d5af08643812aebc91": {
      "model_module": "@jupyter-widgets/controls",
      "model_module_version": "1.4.0",
      "model_name": "SliderStyleModel",
      "state": {
       "description_width": ""
      }
     },
     "203ac07bc8da4ba5ad46ad31595e5ef5": {
      "model_module": "@jupyter-widgets/controls",
      "model_module_version": "1.4.0",
      "model_name": "SliderStyleModel",
      "state": {
       "description_width": ""
      }
     },
     "241d256611fd44ccb35450f7d696b71a": {
      "model_module": "@jupyter-widgets/controls",
      "model_module_version": "1.4.0",
      "model_name": "DirectionalLinkModel",
      "state": {
       "source": [
        "IPY_MODEL_f73ad794af5f48f7937196a2cc97ab07",
        "value"
       ],
       "target": [
        "IPY_MODEL_9f79d3224596455dbd22153b1d92c09a",
        "max"
       ]
      }
     },
     "25e3cc9d84284838b2a0cf1c0615dd0e": {
      "model_module": "@jupyter-widgets/controls",
      "model_module_version": "1.4.0",
      "model_name": "SliderStyleModel",
      "state": {
       "description_width": ""
      }
     },
     "2d5b9a92e8ba40a78c33b9311417d283": {
      "model_module": "@jupyter-widgets/base",
      "model_module_version": "1.1.0",
      "model_name": "LayoutModel",
      "state": {}
     },
     "2e22f36e7b0e44f7b84c69de7c099093": {
      "model_module": "@jupyter-widgets/controls",
      "model_module_version": "1.4.0",
      "model_name": "VBoxModel",
      "state": {
       "children": [
        "IPY_MODEL_9ddaf2b7f06144aa9d371a4e3d9912b2",
        "IPY_MODEL_1a330ec7ad08413899d84ece798fd14c"
       ],
       "layout": "IPY_MODEL_581fb8b331b94b459c09b431c4849641"
      }
     },
     "3055eb7e50b04b10a185c1f39925a34f": {
      "model_module": "@jupyter-widgets/base",
      "model_module_version": "1.1.0",
      "model_name": "LayoutModel",
      "state": {}
     },
     "31deee92a577473eb0484ce779f3cbf0": {
      "model_module": "@jupyter-widgets/base",
      "model_module_version": "1.1.0",
      "model_name": "LayoutModel",
      "state": {}
     },
     "36025f0b4eef4065a6fbcd57dd3a013c": {
      "model_module": "@jupyter-widgets/base",
      "model_module_version": "1.1.0",
      "model_name": "LayoutModel",
      "state": {}
     },
     "3bd1dd54eda04985b8bf2c64b79f1955": {
      "model_module": "@jupyter-widgets/controls",
      "model_module_version": "1.4.0",
      "model_name": "SliderStyleModel",
      "state": {
       "description_width": ""
      }
     },
     "3c09992c40cd40408c437a0bcfc7ca34": {
      "model_module": "@jupyter-widgets/controls",
      "model_module_version": "1.4.0",
      "model_name": "IntSliderModel",
      "state": {
       "layout": "IPY_MODEL_5b565821a7d741f0a6a872909a83fc9a",
       "style": "IPY_MODEL_959745cfd8eb4c6f80f448823bdd4114",
       "value": 37
      }
     },
     "3cb8157e6ce144919ae9d33f3dd23733": {
      "model_module": "@jupyter-widgets/base",
      "model_module_version": "1.1.0",
      "model_name": "LayoutModel",
      "state": {}
     },
     "3eb20e30caef4319abcea768e0446673": {
      "model_module": "@jupyter-widgets/controls",
      "model_module_version": "1.4.0",
      "model_name": "IntSliderModel",
      "state": {
       "layout": "IPY_MODEL_f924542d17714cf28bde39de7dfe84d3",
       "max": 200,
       "style": "IPY_MODEL_17f1c7a3949c4c60933304f916c6c737",
       "value": 50
      }
     },
     "3fa1c218d45d4c49bc37965eefca56d4": {
      "model_module": "@jupyter-widgets/base",
      "model_module_version": "1.1.0",
      "model_name": "LayoutModel",
      "state": {}
     },
     "40028d7ea9414c07b08740113c3ad211": {
      "model_module": "@jupyter-widgets/controls",
      "model_module_version": "1.4.0",
      "model_name": "IntSliderModel",
      "state": {
       "layout": "IPY_MODEL_bacbeb50eff54248b8cd112f4dcb2e99",
       "max": 129,
       "style": "IPY_MODEL_9f30363f811f4aeb8ac54af26cefd7de",
       "value": 37
      }
     },
     "4145cd73fb8542c1ae9112e379bad45d": {
      "model_module": "@jupyter-widgets/base",
      "model_module_version": "1.1.0",
      "model_name": "LayoutModel",
      "state": {}
     },
     "493a87a4557649a6b8f7964935a95e64": {
      "model_module": "@jupyter-widgets/controls",
      "model_module_version": "1.4.0",
      "model_name": "IntSliderModel",
      "state": {
       "layout": "IPY_MODEL_31deee92a577473eb0484ce779f3cbf0",
       "max": 200,
       "style": "IPY_MODEL_fccefec4711c46649f20923ca2a9523b",
       "value": 100
      }
     },
     "493fd9cb5217406fb41b5207f06fe0a8": {
      "model_module": "@jupyter-widgets/controls",
      "model_module_version": "1.4.0",
      "model_name": "VBoxModel",
      "state": {
       "children": [
        "IPY_MODEL_f73ad794af5f48f7937196a2cc97ab07",
        "IPY_MODEL_9f79d3224596455dbd22153b1d92c09a"
       ],
       "layout": "IPY_MODEL_ec33f008e43c4074b1b650b5fc3c7262"
      }
     },
     "4c1952528e5f41b49d6bc85f49acdfb0": {
      "model_module": "@jupyter-widgets/controls",
      "model_module_version": "1.4.0",
      "model_name": "ButtonModel",
      "state": {
       "description": "Some Button",
       "icon": "check",
       "layout": "IPY_MODEL_9d09251fd5b746f68eb580e0c675d11c",
       "style": "IPY_MODEL_c7d28a8ad106462d9d62422f9de71f11",
       "tooltip": "Click me"
      }
     },
     "4d415db3cf6a4c74839379eb9b0b5c35": {
      "model_module": "@jupyter-widgets/controls",
      "model_module_version": "1.4.0",
      "model_name": "ButtonStyleModel",
      "state": {}
     },
     "4e7880304d7b42dd8baf541c947ab214": {
      "model_module": "@jupyter-widgets/controls",
      "model_module_version": "1.4.0",
      "model_name": "DescriptionStyleModel",
      "state": {
       "description_width": ""
      }
     },
     "5283c69c7b0f4d43a906a3316273f977": {
      "model_module": "@jupyter-widgets/controls",
      "model_module_version": "1.4.0",
      "model_name": "SliderStyleModel",
      "state": {
       "description_width": ""
      }
     },
     "581fb8b331b94b459c09b431c4849641": {
      "model_module": "@jupyter-widgets/base",
      "model_module_version": "1.1.0",
      "model_name": "LayoutModel",
      "state": {}
     },
     "5918437a659e47b89330707e4aa14628": {
      "model_module": "@jupyter-widgets/controls",
      "model_module_version": "1.4.0",
      "model_name": "DirectionalLinkModel",
      "state": {
       "source": [
        "IPY_MODEL_6531048240824dbeb5409e5313302507",
        "value"
       ],
       "target": [
        "IPY_MODEL_40028d7ea9414c07b08740113c3ad211",
        "max"
       ]
      }
     },
     "5b565821a7d741f0a6a872909a83fc9a": {
      "model_module": "@jupyter-widgets/base",
      "model_module_version": "1.1.0",
      "model_name": "LayoutModel",
      "state": {}
     },
     "5e845064a5044126b72d7b8d665485a1": {
      "model_module": "@jupyter-widgets/controls",
      "model_module_version": "1.4.0",
      "model_name": "VBoxModel",
      "state": {
       "children": [
        "IPY_MODEL_3eb20e30caef4319abcea768e0446673",
        "IPY_MODEL_b427f85aad5d42a2b46ea94745343043"
       ],
       "layout": "IPY_MODEL_9ecb75d92f18437e877351820fd70315"
      }
     },
     "60e30360b17341848544e462e8da5c20": {
      "model_module": "bqplot",
      "model_module_version": "^0.4.2",
      "model_name": "FigureModel",
      "state": {
       "_dom_classes": [],
       "_model_module_version": "^0.4.2",
       "_view_module_version": "^0.4.2",
       "axes": [
        "IPY_MODEL_c0b986c54b8d4b8c98b7e322121e0191",
        "IPY_MODEL_9ff1d08f8f28495888ce0df152942f25"
       ],
       "layout": "IPY_MODEL_13a95bbb45b4432db1bbb27df5fad304",
       "marks": [
        "IPY_MODEL_7555452565f34c7caf1aa7b8f1c457a9"
       ],
       "max_aspect_ratio": 6,
       "scale_x": "IPY_MODEL_cc7fcda7fd174a0aadeb85e278baf94c",
       "scale_y": "IPY_MODEL_86547fbb13314dae97ae01a663e6ff99"
      }
     },
     "61997801421d49e8aa10053fcc02c236": {
      "model_module": "@jupyter-widgets/base",
      "model_module_version": "1.1.0",
      "model_name": "LayoutModel",
      "state": {}
     },
     "63fa3af8e0054b30ae60bbfe0bb23ad7": {
      "model_module": "@jupyter-widgets/base",
      "model_module_version": "1.1.0",
      "model_name": "LayoutModel",
      "state": {}
     },
     "6531048240824dbeb5409e5313302507": {
      "model_module": "@jupyter-widgets/controls",
      "model_module_version": "1.4.0",
      "model_name": "IntSliderModel",
      "state": {
       "layout": "IPY_MODEL_ca665824f6df44099aea27b590cce97b",
       "max": 200,
       "style": "IPY_MODEL_1af62720d54349d5af08643812aebc91",
       "value": 129
      }
     },
     "66c80b85ab2c4cc3b60e615a668ca7de": {
      "model_module": "@jupyter-widgets/controls",
      "model_module_version": "1.4.0",
      "model_name": "VBoxModel",
      "state": {
       "children": [
        "IPY_MODEL_7cbb4f61de8e4989962387b79194fe1c",
        "IPY_MODEL_097b0f68a1aa495f9f625a2647fd0f79"
       ],
       "layout": "IPY_MODEL_88dffa51dbc84261b130075bbaf61a0c"
      }
     },
     "6c0a7ddfa6a74f4ca2175e30e5bcdfd0": {
      "model_module": "@jupyter-widgets/controls",
      "model_module_version": "1.4.0",
      "model_name": "DescriptionStyleModel",
      "state": {
       "description_width": ""
      }
     },
     "6c3adb37b975423198e8fce6c5ca72c6": {
      "model_module": "@jupyter-widgets/controls",
      "model_module_version": "1.4.0",
      "model_name": "VBoxModel",
      "state": {
       "children": [
        "IPY_MODEL_6531048240824dbeb5409e5313302507",
        "IPY_MODEL_40028d7ea9414c07b08740113c3ad211",
        "IPY_MODEL_a2524f7da0784dfa80505d123e0fa8e3"
       ],
       "layout": "IPY_MODEL_710b8be21481467b88a094201159f5ed"
      }
     },
     "6e0e88fa49514834a91b2f9b26eed819": {
      "model_module": "@jupyter-widgets/controls",
      "model_module_version": "1.4.0",
      "model_name": "HTMLModel",
      "state": {
       "layout": "IPY_MODEL_ee683995b825479780b19eb395d588c7",
       "style": "IPY_MODEL_0fb6fbffc8044111bb3cc9dfb8e0ad8e",
       "value": "<h3>Some Subheading</h3><text>Using the widget layout functions HBox and VBox</text><br><text>to display the notebook in a presentable fashion</text><br><h4>Some smaller subheading</h4><text>Contains some text, a button, a figure and a table </text><br><text>fkdsajfjdskakfdsafs This is html This is html This is html </text><br><text>More text This is html This is html This is html </text><br><text>fkdsajfjdskakfdsafs This is html This is html This is html </text><br><text>fkdsajfjdskakfdsafs This is html This is html This is html </text>"
      }
     },
     "6feea5ec063b4c33b9408b8cfbdf86b9": {
      "model_module": "@jupyter-widgets/base",
      "model_module_version": "1.1.0",
      "model_name": "LayoutModel",
      "state": {}
     },
     "70274f8bc2e245578cdd10fbb5e9c462": {
      "model_module": "@jupyter-widgets/controls",
      "model_module_version": "1.4.0",
      "model_name": "VBoxModel",
      "state": {
       "children": [
        "IPY_MODEL_0d488249598f4bd4a18e1bee4736a541"
       ],
       "layout": "IPY_MODEL_61997801421d49e8aa10053fcc02c236"
      }
     },
     "710b8be21481467b88a094201159f5ed": {
      "model_module": "@jupyter-widgets/base",
      "model_module_version": "1.1.0",
      "model_name": "LayoutModel",
      "state": {}
     },
     "754052ac8961432eb6f01ca6a7e453e4": {
      "model_module": "bqplot",
      "model_module_version": "^0.4.2",
      "model_name": "LinearScaleModel",
      "state": {
       "_model_module_version": "^0.4.2",
       "_view_module_version": "^0.4.2",
       "stabilized": false
      }
     },
     "7555452565f34c7caf1aa7b8f1c457a9": {
      "model_module": "bqplot",
      "model_module_version": "^0.4.2",
      "model_name": "HistModel",
      "state": {
       "_model_module_version": "^0.4.2",
       "_view_module_version": "^0.4.2",
       "colors": [
        "#475A77"
       ],
       "count": {
        "type": "float",
        "values": [
         0.027169696059800588,
         0.1018863602242522,
         0.16981060037375367,
         0.3141496106914443,
         0.3769795328297331,
         0.33113067072881963,
         0.22414999249335485,
         0.09849014821677712,
         0.039056438085963346,
         0.01528295403363783
        ]
       },
       "display_legend": false,
       "midpoints": [
        2.579965093499843,
        3.168856480609362,
        3.757747867718881,
        4.3466392548284,
        4.935530641937919,
        5.524422029047438,
        6.113313416156957,
        6.702204803266476,
        7.2910961903759945,
        7.8799875774855135
       ],
       "normalized": true,
       "sample": {
        "type": "float",
        "values": [
         6.655172229681442,
         5.127602319769694,
         3.1146166702804825,
         3.608263561207499,
         4.705486328203705,
         5.202361088022343,
         3.3063387420681236,
         5.084261160198585,
         6.152598639318884,
         2.5640647664364296,
         6.697628043668926,
         4.498171909634307,
         5.768795081227625,
         5.869482699783846,
         5.628690324373874,
         5.565826617334097,
         6.242104884091503,
         4.974114592440033,
         4.123736410341652,
         4.126650966074444,
         5.385486486522731,
         6.925346262520975,
         3.894994036772041,
         4.548572642113915,
         5.1270394279160785,
         4.642059110553549,
         5.839082391651256,
         4.710274228621337,
         7.771724006656433,
         4.989522123593224,
         6.555577434811529,
         6.278519639889162,
         4.899908545514521,
         5.634381985670722,
         6.101450845555177,
         4.5612192555004905,
         3.017004216832778,
         5.051808960472417,
         6.855445352636913,
         6.232990866016436,
         4.400596239293858,
         4.019112105233296,
         6.216633571698789,
         5.587366231865984,
         6.02865923687348,
         3.6729290459595814,
         5.140675149340456,
         5.372065437574983,
         6.449138617638067,
         3.5083083958765076,
         6.022316566151062,
         4.720479007105085,
         3.2415471863528893,
         5.1049848311940575,
         4.299487047714685,
         5.0415177441427135,
         6.2847861187135035,
         5.230176848707895,
         3.2620006677075635,
         4.271377127063314,
         6.0966731889433,
         5.149792975729598,
         4.156007492530849,
         4.135515880816142,
         4.920084041862907,
         4.596985714226899,
         5.343135940472086,
         5.205800434960319,
         2.524292528334821,
         5.072633541826298,
         2.9699021173295463,
         4.908464375461714,
         4.796412004241308,
         6.536533212188658,
         4.669124039003342,
         4.4430118829058,
         4.235712379568788,
         4.873049522715512,
         5.2116692247479675,
         5.6901023901155074,
         4.76548936129573,
         6.167632552385539,
         6.891987735256753,
         5.017318293904873,
         4.430803558839636,
         3.35824980091316,
         5.717696373216365,
         4.50446876265024,
         5.505149341237889,
         4.545627603389821,
         5.19935205924776,
         2.6490291113854303,
         5.363181679054062,
         7.4327098699238565,
         6.423873231313964,
         3.2427017044796824,
         4.43528871864287,
         3.8765516550752954,
         4.292444025421456,
         3.7006944443676195,
         5.186054262506704,
         4.699558893930973,
         4.914039373329437,
         6.064507823186473,
         4.701034392314246,
         4.8634387374538885,
         5.888856494129925,
         5.085892624216594,
         5.579262985768364,
         4.4620892799596445,
         5.8447343475770115,
         3.2622174528123145,
         5.172641801073609,
         3.870086026403894,
         7.725706002068602,
         6.188260125899243,
         6.422547516181073,
         6.104977041117058,
         7.2565471325234405,
         4.730759508097233,
         5.549943499905978,
         6.336620851216319,
         4.606886628366037,
         4.649849102106196,
         6.0970770689889555,
         4.324985217172377,
         3.37571233297481,
         5.933299289132257,
         2.4737039784849,
         6.086397815373477,
         4.618819477568487,
         5.46328492859088,
         3.8089100605276514,
         4.445059694482117,
         4.105847927949574,
         3.62435536942632,
         7.266170690784854,
         4.649749471808105,
         4.30334815009323,
         6.1412220290299055,
         4.749634656232668,
         6.1456447713482705,
         5.070783993420241,
         3.7666436238023246,
         5.624911943439159,
         4.198325926475935,
         3.7848281059007927,
         4.165882815022405,
         4.441610487107054,
         5.156568411988175,
         4.831513739808501,
         5.3373546143486745,
         4.1025838532003815,
         4.7751607667897895,
         5.017369686226379,
         4.180185743128974,
         4.126625154273965,
         4.78263468851615,
         5.6385595821436905,
         7.332566516631852,
         5.462875081955538,
         4.709756973265026,
         4.357292794351738,
         6.640594535248716,
         5.642670526220602,
         4.968526508509578,
         5.269064438360744,
         3.635075901404816,
         3.2483399156887622,
         3.7120113980847487,
         5.615572281312373,
         4.585106359709809,
         4.643837546492692,
         4.6483011913592716,
         3.917445516926509,
         4.206761606888312,
         4.2871254862717105,
         4.412647380184698,
         5.127566541189954,
         4.60918266280095,
         4.801467148613002,
         3.932589059903045,
         5.581849422751917,
         3.276042336109638,
         4.902430821837848,
         5.435666261623495,
         4.333030406972905,
         4.16006809180161,
         4.433703843760616,
         3.4680508897831346,
         3.577471370829861,
         6.826852951440237,
         7.921896622574224,
         6.185551749527499,
         6.088251762276078,
         6.232916422441697,
         5.490219485459647,
         4.505834888830696,
         5.779661382987921,
         4.656670579561629,
         5.646613271528042,
         6.433754699098788,
         3.4048788365301643,
         5.074773044352231,
         6.119595053386132,
         5.436515958872643,
         4.388327144985027,
         4.353260125018933,
         5.194494734595615,
         6.62364277214651,
         5.972093819770151,
         6.353922874107432,
         5.093735072927048,
         7.060312768304449,
         7.290396144961512,
         3.425090983836619,
         5.548403140821193,
         2.8519394246809577,
         5.389909786577882,
         6.100166823008716,
         5.404360728157719,
         4.542959660843011,
         3.6539908151789424,
         5.289401531242245,
         6.434903954319969,
         4.124903530210856,
         4.285136368198727,
         5.281248299804554,
         4.166765301406203,
         6.127635248937858,
         5.111557186065927,
         5.358098994336277,
         5.030381867511712,
         5.268610799856431,
         6.0397955722937375,
         3.7486735126056923,
         4.200884413991373,
         6.328022768645628,
         4.505636320030193,
         4.334304620230402,
         6.109693034782015,
         3.405206280484067,
         4.920231267385016,
         5.528078420235687,
         3.4039006344198004,
         5.9913781748057655,
         6.532538366973582,
         4.465674060693885,
         5.264027545974104,
         3.5239806452813647,
         3.6688334524331676,
         3.8960911298615515,
         6.118374966023043,
         3.268518394295249,
         4.8576727521713785,
         2.2855193999450836,
         5.565464265778136,
         5.061797835596724,
         3.662554898431427,
         5.227631547230976,
         4.241590399053683,
         5.95947548188033,
         4.039110406960222,
         5.099603039505591,
         7.077333026283984,
         4.901854908581168,
         3.2769821847740594,
         5.931107830638134,
         5.6592798937949675,
         5.422241562590893,
         4.541829015035101,
         4.245585852484718,
         4.73374424198756,
         4.2899771699643265,
         4.17299143982756,
         4.761626471160076,
         5.413005008875715,
         5.569275683366771,
         4.372312258372926,
         5.438853754142548,
         5.46232639359092,
         4.283916065735699,
         5.6484325335763215,
         5.577419924092046,
         3.476307229955872,
         3.735952304888256,
         3.843500431315305,
         5.6246366237721155,
         4.173297310686008,
         4.591107283464739,
         5.942397952541783,
         5.955674180739877,
         6.710662136854291,
         4.471252205163692,
         5.765285760517492,
         5.2503758860750365,
         4.306422519824784,
         5.549665907633557,
         7.0120058884821725,
         4.665252077771153,
         4.915602392918966,
         3.9324586370421115,
         7.4738541646899055,
         5.168298180247956,
         5.357833828732196,
         5.628632908038387,
         4.470588376573515,
         4.561091417252007,
         4.576853639264524,
         4.459918534347058,
         6.048510878718782,
         3.967042484808129,
         4.284484331285729,
         6.819952966670021,
         4.637058714183048,
         6.208156613529717,
         3.3104298270574537,
         5.147425224526161,
         5.516807034606592,
         2.7718877461325317,
         5.5643709177702485,
         5.428170619736612,
         3.8180848969151824,
         4.131132630372172,
         5.795487145076395,
         5.23828596541908,
         4.101693915323711,
         5.212104963534986,
         6.14603029864648,
         5.6417451964766965,
         3.697099500730628,
         4.175483945035219,
         4.063261228537766,
         4.643361453898549,
         5.960156673268557,
         3.7893991171572936,
         4.247653365158092,
         5.484127140701714,
         6.673531400236117,
         6.430390029831267,
         6.670583324870884,
         4.871874934002365,
         4.942704835108288,
         5.508960859315923,
         5.441633679439674,
         5.868535014402912,
         4.421084090506669,
         4.852511578298603,
         5.121850644455874,
         3.9919372559122053,
         4.3488802606794605,
         5.8392585041321095,
         5.8740687188065435,
         4.771111930117795,
         4.54676769129285,
         3.1632101659010354,
         6.6424985588302015,
         4.210051363727381,
         5.150839741417915,
         5.692210150025315,
         5.124962800355717,
         7.566827149553282,
         5.740905857318544,
         5.000865409347579,
         4.738713641365773,
         5.122242415446273,
         4.6193756209907155,
         5.317126680362914,
         3.750196853051736,
         4.439995624795492,
         5.643176162007893,
         5.169157225030483,
         5.1092898303131085,
         4.488159542622622,
         4.2390163080814744,
         5.3195877913091225,
         4.428295628059345,
         6.521652756160255,
         6.40236809207849,
         4.93603317067971,
         2.996479441051384,
         5.177535781947762,
         6.25886557728204,
         5.799802468590017,
         4.477538137552492,
         4.042452698513699,
         3.7867393106064386,
         4.791161176893927,
         3.383141056649415,
         5.187715480886021,
         5.384060810511784,
         6.1563892030020115,
         6.227953820519717,
         2.676505310086696,
         4.28408905095721,
         5.11145546771685,
         5.069377272276542,
         6.7626052940844055,
         6.328281388980772,
         5.890113166215981,
         7.204071423367479,
         6.544858068992056,
         5.305555483088058,
         5.245570379945547,
         3.898643051980887,
         5.685567284602039,
         5.28781570545143,
         4.0957740950689665,
         5.851388404351381,
         3.27192421032886,
         5.407517995310628,
         3.886360665423755,
         3.5093037486294163,
         4.969528685242748,
         5.304868794095861,
         4.026847602368081,
         7.05877573475253,
         3.5406662533693725,
         6.496842805643856,
         3.421007489118915,
         5.222211358917493,
         5.867348061851374,
         4.320607971259348,
         6.8445551371277356,
         6.105904168959074,
         4.981495797883529,
         4.86155255893793,
         3.7366992724726735,
         5.688258301271994,
         5.1026124063665605,
         6.386046189150808,
         4.172565360429557,
         5.2189813722915686,
         5.213383323645316,
         5.2076388905036,
         6.0751224527815815,
         4.6379834676444744,
         4.469837577913339,
         2.930466043431031,
         5.365772696863625,
         7.018752325558278,
         7.881776539904785,
         4.078666960696149,
         5.500560970494837,
         4.947690390127229,
         5.357115258132462,
         5.631854505701584,
         5.277757712967927,
         5.25413668177221,
         5.341627517834848,
         3.616973583000247,
         4.699670172643936,
         5.504895487681007,
         4.9098884402562355,
         4.459471055015017,
         4.443331310287293,
         5.958213809933628,
         4.6891959580579705,
         4.53488560163505,
         4.821945954945294,
         6.38464486675414,
         4.2580485965953665,
         3.397252716373964,
         5.480644678368341,
         5.969038246455604,
         5.330711453485272,
         5.705459892093209,
         3.4792234188147217,
         5.36051838532507,
         6.6624968482254285,
         3.4991275830066355,
         8.174433271040273,
         5.579083923988002,
         4.776604032567134,
         5.771304063536006,
         5.033429697896963,
         5.917971071050762,
         5.672881566002258,
         5.391674945742164,
         6.312160518726516,
         5.544974027328969,
         5.842979871204833,
         5.65499198620455,
         5.000661416035418,
         3.8812260270761527,
         4.690754820303346,
         4.769963265482362,
         5.42334985787394,
         4.065834484406739,
         6.017874278131332,
         5.429229366358712,
         5.563618998983553,
         6.330339457432614,
         5.500931308378611,
         2.4577363028172368,
         4.234915727112529,
         5.142544853305639,
         3.5838685304565816,
         4.232745272505602,
         4.319884592953713,
         5.180826390796013,
         5.967786803569955,
         5.882118777338446,
         5.293967497703853,
         3.666438558649647,
         4.105773162571281,
         5.546135036439024,
         3.6412436106079467,
         5.028269986715473,
         4.209101988775383,
         5.179137971072155,
         4.8262314577354335,
         4.416837533119647,
         4.627809883975595,
         5.100043990982549,
         4.81233891235108,
         3.1857202084278766,
         4.568754136503276,
         4.831567537239734,
         5.154333972197602,
         4.999968408229586,
         6.667347839791704,
         6.282851719927616,
         4.141129919906964,
         4.2372374398337005,
         4.118684080089595,
         4.185016552919664,
         7.046854788674542,
         4.606226691300549,
         5.306065422922564,
         5.155814896037725,
         5.484390542308512,
         4.797976553946205,
         6.891512026238382,
         5.909377100979418,
         4.45088067507874,
         5.593670009523539,
         4.37663889765464,
         5.302902483201001,
         4.350994871796009,
         3.561390747811934,
         4.4623438937804085,
         5.144250998611505,
         3.110542603523914,
         7.295860792435749,
         5.399079813732178,
         4.4085187430158115,
         4.285333649428496,
         5.886002984081816,
         3.1196498583522834,
         4.550826946751027,
         4.098532558704127,
         5.523531296543003,
         3.3980351024950775,
         4.642523291839299,
         3.7392037391178308,
         6.487562613481423,
         5.096979922968543,
         7.145729288062652,
         5.839150812911002,
         6.360429824095192,
         4.995429962412376,
         4.330340628167845,
         5.811340314300269,
         5.256756325709878,
         6.405459122930736,
         5.223586545481045,
         5.560794657864808,
         3.6510199734715014,
         6.177128082650269,
         5.608475328607654,
         5.062528216301238,
         4.209785633611986,
         4.841968046065787,
         4.116520715893451,
         5.8519452436843755,
         5.18395883093974,
         4.752595697516796,
         4.168477780276106,
         3.4070734589453906,
         2.8061895980021254,
         5.2639756276139655,
         6.747065944681556,
         5.40717568624591,
         5.167841509918076,
         3.292438727758845,
         4.834610048172882,
         5.789478460622136,
         6.180631882723098,
         5.265515284426178,
         2.974435664650795,
         3.951060459966818,
         4.013435160926893,
         5.368124266572907,
         5.454734677124898,
         6.42008550313563,
         5.459546554833288,
         6.564515915357283,
         6.116208445047249,
         6.676833138904403,
         5.650948772588144,
         3.8255373956065553,
         4.345849886165545,
         4.122031877929108,
         3.141458743613332,
         7.328800838334157,
         4.753999896835752,
         5.979184667976106,
         5.4844300156668355,
         5.370457365258184,
         5.657973912848826,
         4.814711048772779,
         5.0760488562288675,
         5.149306025168729,
         6.03067803015945,
         6.1287876561198,
         5.168601701893179,
         5.30873676603537,
         6.047770800304345,
         5.822761266534271,
         3.9510393169164355,
         5.1136623376067485,
         3.8822292766931685,
         5.074518531080233,
         4.920938184442909,
         3.131092590073454,
         6.8989309140120385,
         4.207111509289833,
         3.568025430097734,
         3.067167224968528,
         6.68954399655674,
         4.410134799908941,
         4.371958879174171,
         2.8101228224762096,
         3.521298696188615,
         5.596203245675937,
         6.47746658139412,
         5.634219910773733,
         3.412002443844898,
         3.660230443591398,
         6.09583733498555,
         3.980888464075483,
         4.543111521698867,
         3.739750759978361,
         5.705096192025214,
         6.228515030972185,
         6.17077928011632,
         4.32726431915223,
         5.521300972848823,
         5.107195892600573,
         4.702095460234721,
         4.450807676529703,
         4.67809490219075,
         4.966849308017079,
         5.506005196331637,
         5.3366977625538,
         3.7821761748317044,
         4.970517097657671,
         5.667001944009344,
         2.8668014799271497,
         3.541669400552764,
         5.003777353845905,
         4.533500491511396,
         4.159299694823566,
         7.226221500585087,
         3.1708275023524575,
         3.7679246388916354,
         4.8123618800163435,
         4.038877555255693,
         5.351248382888105,
         5.217667793970021,
         5.83929072605193,
         4.818766454224549,
         5.239074099549414,
         5.664616408546028,
         3.959887028595727,
         5.284751485233891,
         5.670234865403847,
         5.093631207712017,
         6.558693401615704,
         6.079527621314847,
         5.978655100326133,
         5.55307635559256,
         4.907586557144598,
         4.056751368333326,
         5.2339464606803805,
         4.502164156594879,
         3.0807831703485093,
         5.8518448961134615,
         5.640491393988669,
         3.9128897156496123,
         4.795007469088069,
         3.0048826185468895,
         4.9572869568176685,
         7.181663934819906,
         4.336703119185427,
         5.375474249296169,
         4.337493066857453,
         4.204474467644734,
         4.205881854995779,
         4.1792325117272595,
         3.874844836859962,
         6.1467774403551925,
         3.002456640617141,
         4.558664949169546,
         5.024964448447387,
         5.752866352678249,
         4.80663679503916,
         3.1286676230259767,
         4.70037899448904,
         6.3625468188458845,
         3.029745872898362,
         7.04571966267052,
         4.238678130962709,
         4.112143345962287,
         5.4000192531143085,
         6.2021390478822145,
         5.108002162838228,
         5.7653736268286435,
         5.742095020596991,
         5.0217663453959815,
         4.010958354107652,
         3.786650927486958,
         4.710691699754078,
         4.465966858308346,
         3.5703216987999093,
         5.904125796355497,
         6.2677903831949475,
         5.660254560947281,
         3.6833803529151066,
         5.464242655384274,
         5.852149455266562,
         6.7555264959668415,
         2.66486178427436,
         4.909310288403811,
         5.871357302201471,
         3.890788356822771,
         6.099358063007934,
         5.139564812788584,
         6.5194674318069765,
         4.865678192895721,
         4.158622064531772,
         4.722436566710586,
         4.545455181334686,
         6.590803424185265,
         5.8239545552969085,
         5.6113278416151555,
         5.716652952187695,
         4.879203780676788,
         4.165708941214083,
         4.385988363527582,
         4.647203730439497,
         3.203759450195739,
         6.089491625017903,
         5.391980722261168,
         3.0932144477681156,
         4.472112028904124,
         4.429207482558494,
         6.183994232704211,
         5.255515786507203,
         5.843522685919901,
         3.7696212198463455,
         5.65760514794923,
         4.794228869528188,
         4.540658826714918,
         6.232055686047562,
         4.502102699020102,
         5.421438693703872,
         4.779556695952126,
         3.8292921294455162,
         3.773229863275998,
         5.4618394030378505,
         4.313143884130635,
         4.854152357078597,
         6.039767497825609,
         4.815367751408474,
         5.798930003060878,
         5.303305680264258,
         6.4502965063489315,
         5.70503269206825,
         3.998753151628243,
         5.884516046699937,
         5.09646049196765,
         5.181868739596156,
         4.731819667020109,
         8.116896736406494,
         3.634116279228695,
         6.070584449535526,
         4.921959185313433,
         6.3421124891213605,
         2.992071667226021,
         2.5609285005431945,
         3.7792038011670437,
         5.45008343822444,
         5.247251201409463,
         5.986252339472547,
         4.708554360259997,
         6.879996599441909,
         6.323506383740122,
         4.180712253437251,
         4.610872315828837,
         4.900617135706499,
         4.881230747489844,
         3.3069611630400004,
         5.51316405737848,
         5.318365036560368,
         5.608985072013647,
         5.690099262843376,
         5.256223603500071,
         5.625933529689228,
         6.5761033246759455,
         4.17766001698659,
         5.5465143749676,
         4.575262084846347,
         5.425939982634072,
         3.0737709808163975,
         5.063181693982489,
         3.192775951440707,
         4.933469267353776,
         3.9885887907080124,
         4.295021520033629,
         4.029547853337853,
         3.9150390748823463,
         3.3946517972271444,
         7.053868572082364,
         3.8905944931864536,
         5.224826851322298,
         5.103518329911207,
         4.345944379160605,
         6.485634672998981,
         4.995865222341577,
         6.269143381767873,
         6.254681098822532,
         4.903046151701192,
         3.8695036896153585,
         5.1283974367356615,
         7.385543399669695,
         4.412631538172473,
         4.296955959665151,
         4.294714812726047,
         5.199165109327387,
         5.660044143899567,
         3.8687122246529597,
         3.4793268979378063,
         4.3118259230821385,
         5.323709520011747,
         4.998560631693793,
         6.218983295959875,
         4.165976706897249,
         3.796599523995109,
         5.2716653395613715,
         4.839782195087556,
         3.7960602700190145,
         7.594046115928673,
         6.2292750160373895,
         4.305551532148911,
         3.1966539053039282,
         4.282635601139277,
         4.052246581517929,
         5.525090562329366,
         6.064613903333481,
         6.155628313458248,
         4.104396188552143,
         3.8946290900117515,
         4.597102803897526,
         5.784578560458852,
         4.840371545289941,
         5.162426929724721,
         5.456681892858659,
         7.326371038004327,
         4.520332992301992,
         6.774847796630172,
         5.33340934584461,
         3.1701536329673115,
         5.999080151640938,
         4.656004963183579,
         7.618542465525641,
         5.755144487091184,
         4.7096373850065625,
         4.422743708872429,
         4.4870794652387405,
         5.777571963711068,
         5.495250059415685,
         4.471750253439464,
         3.9825490184561465,
         6.5661298820903475,
         6.56505215401868,
         6.585945880753204,
         3.422129153851588,
         5.016974770017406,
         6.415193353117209,
         5.087201478042305,
         5.744409578071772,
         4.816993389982013,
         3.780078274774773,
         2.504994267400341,
         4.279032080354374,
         4.8899156950828,
         3.8318851678039407,
         5.081462385671223,
         4.648922155955661,
         6.95728021471561,
         6.096669746547816,
         6.775406624113186,
         5.2749734104014285,
         3.406511721777977,
         5.294785621354801,
         4.095083780032254,
         3.530447115436423,
         5.678229614331599,
         5.409775883158377,
         2.9896023507246117,
         5.620688187960226,
         6.389651984390757,
         5.2279233421730025,
         4.683476419001237,
         6.428673217160229,
         4.743710328673056,
         5.092450182437913,
         5.670996980950801,
         5.532823289922234,
         5.685614670126856,
         4.714035869295332,
         5.201442855712259,
         4.638262192178108,
         4.609074657186884,
         6.6951039148369995,
         6.842601766010142,
         5.420063805813156,
         4.661007925815185,
         3.7851298122624355,
         4.85544989261098,
         4.660520999995713,
         5.253628575655489,
         4.880558794743829,
         6.353595353159179,
         6.178437322295186,
         3.0521770446465224,
         3.8971553697302275,
         4.709829764746768,
         5.013786185982207,
         4.2834371058675655,
         4.120170631368361,
         5.321831650934299,
         5.559098672325747,
         4.724357480866284,
         5.73181871339456,
         4.886186083338322,
         3.1265820448911557,
         5.924168630504891,
         4.8246568073608485,
         4.912090507440156,
         5.352499623849257,
         5.0329331690993175,
         4.120203410284801,
         6.015957679966476,
         4.92367270950851,
         6.01049285135308,
         6.783035756754448,
         4.830252169827451,
         5.2217574642675935,
         3.0317750634009393,
         5.422447857266663,
         4.962573144788998,
         5.088461164499772,
         5.655892371719378,
         3.909070395896551,
         4.6351073303202,
         6.418085680062702,
         4.563827366907693,
         5.085169775607573,
         5.077390492525428,
         5.943363129433101,
         4.745852494394133,
         4.430906098793179,
         6.2384484150953465,
         5.479812076571441,
         5.644831266270321,
         2.7518895996025448,
         4.9236143108628685,
         5.5529157582008,
         5.55850475307882,
         6.407161969730048,
         5.961959746518184,
         3.9719672416283722,
         5.960169577367256,
         6.291129615544408,
         4.71061030915944,
         3.445177032375825,
         2.9601328907756836,
         6.218093531703415,
         3.790193522928473,
         4.533964474359197,
         4.417220815314743,
         4.478674444164968,
         4.722092591201108,
         4.479104667844231,
         7.829888950075679,
         6.179803482873815,
         4.425978914260116
        ]
       },
       "scales": {
        "count": "IPY_MODEL_754052ac8961432eb6f01ca6a7e453e4",
        "sample": "IPY_MODEL_e6d985cf5f1046708e81b6c2254cc5ed"
       },
       "selected": [],
       "stroke": "#475A77"
      }
     },
     "7559590385a74547bb2790e4f9f7d344": {
      "model_module": "@jupyter-widgets/controls",
      "model_module_version": "1.4.0",
      "model_name": "VBoxModel",
      "state": {
       "children": [
        "IPY_MODEL_cae6cda7404e4e43b1b5f9a54b51dcb6",
        "IPY_MODEL_0e64aa1e43fd467f9972ffb5afb72564"
       ],
       "layout": "IPY_MODEL_7ec9179721734736a5d37f10838293c4"
      }
     },
     "76bde42a917d48f3adca0699eb0fa0a4": {
      "model_module": "@jupyter-widgets/base",
      "model_module_version": "1.1.0",
      "model_name": "LayoutModel",
      "state": {}
     },
     "78fc311ba24e414f9980f35f1c3611ba": {
      "model_module": "@jupyter-widgets/controls",
      "model_module_version": "1.4.0",
      "model_name": "IntSliderModel",
      "state": {
       "layout": "IPY_MODEL_bff812568fc84f85bbc1f550bd34bdae",
       "style": "IPY_MODEL_f19e17395b204b50abef034035f55d49",
       "value": 40
      }
     },
     "792ad172e9d04c4eb458cc1bdc306d77": {
      "model_module": "@jupyter-widgets/controls",
      "model_module_version": "1.4.0",
      "model_name": "DirectionalLinkModel",
      "state": {
       "source": [
        "IPY_MODEL_9f0472877a354b50bdba82437773d822",
        "value"
       ],
       "target": [
        "IPY_MODEL_16bccf1806604a648f8a765e8e76046a",
        "max"
       ]
      }
     },
     "7c56c9a551af443993423f39df475075": {
      "model_module": "@jupyter-widgets/output",
      "model_module_version": "1.0.0",
      "model_name": "OutputModel",
      "state": {
       "layout": "IPY_MODEL_ff1a785cfd624896a711c81e235d251e"
      }
     },
     "7cbb4f61de8e4989962387b79194fe1c": {
      "model_module": "@jupyter-widgets/controls",
      "model_module_version": "1.4.0",
      "model_name": "IntSliderModel",
      "state": {
       "layout": "IPY_MODEL_4145cd73fb8542c1ae9112e379bad45d",
       "max": 200,
       "style": "IPY_MODEL_cc03d46cbb864808943cc595008007e8",
       "value": 183
      }
     },
     "7ec9179721734736a5d37f10838293c4": {
      "model_module": "@jupyter-widgets/base",
      "model_module_version": "1.1.0",
      "model_name": "LayoutModel",
      "state": {}
     },
     "80e75ce6314c4f30bdab75d77aefccf8": {
      "model_module": "@jupyter-widgets/controls",
      "model_module_version": "1.4.0",
      "model_name": "VBoxModel",
      "state": {
       "children": [
        "IPY_MODEL_9f0472877a354b50bdba82437773d822",
        "IPY_MODEL_16bccf1806604a648f8a765e8e76046a",
        "IPY_MODEL_f19df0b5677047b1b91f16fa94e63fae"
       ],
       "layout": "IPY_MODEL_76bde42a917d48f3adca0699eb0fa0a4"
      }
     },
     "81134a0ff07c4eaabdf61b7c57e3a477": {
      "model_module": "@jupyter-widgets/controls",
      "model_module_version": "1.4.0",
      "model_name": "SliderStyleModel",
      "state": {
       "description_width": ""
      }
     },
     "8361cb5add3e4189b41172e3d1953e57": {
      "model_module": "@jupyter-widgets/base",
      "model_module_version": "1.1.0",
      "model_name": "LayoutModel",
      "state": {}
     },
     "86547fbb13314dae97ae01a663e6ff99": {
      "model_module": "bqplot",
      "model_module_version": "^0.4.2",
      "model_name": "LinearScaleModel",
      "state": {
       "_model_module_version": "^0.4.2",
       "_view_module_version": "^0.4.2",
       "allow_padding": false,
       "max": 1,
       "min": 0,
       "stabilized": false
      }
     },
     "88dffa51dbc84261b130075bbaf61a0c": {
      "model_module": "@jupyter-widgets/base",
      "model_module_version": "1.1.0",
      "model_name": "LayoutModel",
      "state": {}
     },
     "928d8e07da7f46e28bc6b55eb3bfae95": {
      "model_module": "@jupyter-widgets/base",
      "model_module_version": "1.1.0",
      "model_name": "LayoutModel",
      "state": {}
     },
     "959745cfd8eb4c6f80f448823bdd4114": {
      "model_module": "@jupyter-widgets/controls",
      "model_module_version": "1.4.0",
      "model_name": "SliderStyleModel",
      "state": {
       "description_width": ""
      }
     },
     "9640bf9a364a4ed487eeb271b9bfefcc": {
      "model_module": "@jupyter-widgets/controls",
      "model_module_version": "1.4.0",
      "model_name": "SliderStyleModel",
      "state": {
       "description_width": ""
      }
     },
     "9c8e87c5d33b484e88672ca6c4516b97": {
      "model_module": "@jupyter-widgets/controls",
      "model_module_version": "1.4.0",
      "model_name": "SliderStyleModel",
      "state": {
       "description_width": ""
      }
     },
     "9d09251fd5b746f68eb580e0c675d11c": {
      "model_module": "@jupyter-widgets/base",
      "model_module_version": "1.1.0",
      "model_name": "LayoutModel",
      "state": {}
     },
     "9ddaf2b7f06144aa9d371a4e3d9912b2": {
      "model_module": "@jupyter-widgets/controls",
      "model_module_version": "1.4.0",
      "model_name": "IntSliderModel",
      "state": {
       "layout": "IPY_MODEL_36025f0b4eef4065a6fbcd57dd3a013c",
       "max": 200,
       "style": "IPY_MODEL_ee7a8f0f5dd14566826b6cefa33298c5",
       "value": 100
      }
     },
     "9ecb75d92f18437e877351820fd70315": {
      "model_module": "@jupyter-widgets/base",
      "model_module_version": "1.1.0",
      "model_name": "LayoutModel",
      "state": {}
     },
     "9f0472877a354b50bdba82437773d822": {
      "model_module": "@jupyter-widgets/controls",
      "model_module_version": "1.4.0",
      "model_name": "IntSliderModel",
      "state": {
       "layout": "IPY_MODEL_b4e8e91710ca4dd18d72428cc933de71",
       "max": 200,
       "style": "IPY_MODEL_203ac07bc8da4ba5ad46ad31595e5ef5",
       "value": 93
      }
     },
     "9f30363f811f4aeb8ac54af26cefd7de": {
      "model_module": "@jupyter-widgets/controls",
      "model_module_version": "1.4.0",
      "model_name": "SliderStyleModel",
      "state": {
       "description_width": ""
      }
     },
     "9f79d3224596455dbd22153b1d92c09a": {
      "model_module": "@jupyter-widgets/controls",
      "model_module_version": "1.4.0",
      "model_name": "IntSliderModel",
      "state": {
       "layout": "IPY_MODEL_6feea5ec063b4c33b9408b8cfbdf86b9",
       "style": "IPY_MODEL_9c8e87c5d33b484e88672ca6c4516b97",
       "value": 40
      }
     },
     "9ff1d08f8f28495888ce0df152942f25": {
      "model_module": "bqplot",
      "model_module_version": "^0.4.2",
      "model_name": "AxisModel",
      "state": {
       "_model_module_version": "^0.4.2",
       "_view_module_version": "^0.4.2",
       "orientation": "vertical",
       "scale": "IPY_MODEL_754052ac8961432eb6f01ca6a7e453e4",
       "side": "left",
       "tick_values": {
        "type": null,
        "values": null
       }
      }
     },
     "a2524f7da0784dfa80505d123e0fa8e3": {
      "model_module": "@jupyter-widgets/controls",
      "model_module_version": "1.4.0",
      "model_name": "ButtonModel",
      "state": {
       "icon": "legal",
       "layout": "IPY_MODEL_928d8e07da7f46e28bc6b55eb3bfae95",
       "style": "IPY_MODEL_4d415db3cf6a4c74839379eb9b0b5c35"
      }
     },
     "a3c43ba25a8b483f9e0d7da508d2586e": {
      "model_module": "@jupyter-widgets/controls",
      "model_module_version": "1.4.0",
      "model_name": "SliderStyleModel",
      "state": {
       "description_width": ""
      }
     },
     "a3e1582c9da04239996a7b02b09218b9": {
      "model_module": "@jupyter-widgets/controls",
      "model_module_version": "1.4.0",
      "model_name": "FloatSliderModel",
      "state": {
       "description": "sd",
       "layout": "IPY_MODEL_f594cebaf9b94e19a6c9fbe2ebbba2a2",
       "max": 2,
       "min": 0.1,
       "step": 0.1,
       "style": "IPY_MODEL_bf6b9e1c216c4fa0898fc43bcc78ba19",
       "value": 1.05
      }
     },
     "a64013b1c80e46d989d3cd011e156fbf": {
      "model_module": "@jupyter-widgets/controls",
      "model_module_version": "1.4.0",
      "model_name": "DirectionalLinkModel",
      "state": {
       "source": [
        "IPY_MODEL_9ddaf2b7f06144aa9d371a4e3d9912b2",
        "value"
       ],
       "target": [
        "IPY_MODEL_1a330ec7ad08413899d84ece798fd14c",
        "max"
       ]
      }
     },
     "a7c076812674444081af0c10d62937c7": {
      "model_module": "@jupyter-widgets/base",
      "model_module_version": "1.1.0",
      "model_name": "LayoutModel",
      "state": {}
     },
     "a986c9ad84104255a6a37ef4f2bbfc06": {
      "model_module": "@jupyter-widgets/controls",
      "model_module_version": "1.4.0",
      "model_name": "DirectionalLinkModel",
      "state": {
       "source": [
        "IPY_MODEL_cae6cda7404e4e43b1b5f9a54b51dcb6",
        "value"
       ],
       "target": [
        "IPY_MODEL_0e64aa1e43fd467f9972ffb5afb72564",
        "max"
       ]
      }
     },
     "ab75b343e75d40c78497174f2f717023": {
      "model_module": "@jupyter-widgets/controls",
      "model_module_version": "1.4.0",
      "model_name": "IntSliderModel",
      "state": {
       "description": "mean",
       "layout": "IPY_MODEL_3fa1c218d45d4c49bc37965eefca56d4",
       "max": 10,
       "style": "IPY_MODEL_b6334e22cca9411a92d491ced0679d47",
       "value": 5
      }
     },
     "afa03d21cb714cf7a4cc14fdd1e60287": {
      "model_module": "@jupyter-widgets/controls",
      "model_module_version": "1.4.0",
      "model_name": "IntSliderModel",
      "state": {
       "layout": "IPY_MODEL_3055eb7e50b04b10a185c1f39925a34f",
       "style": "IPY_MODEL_5283c69c7b0f4d43a906a3316273f977"
      }
     },
     "b1e464d5dba241d097b233811c61208d": {
      "model_module": "@jupyter-widgets/base",
      "model_module_version": "1.1.0",
      "model_name": "LayoutModel",
      "state": {}
     },
     "b427f85aad5d42a2b46ea94745343043": {
      "model_module": "@jupyter-widgets/controls",
      "model_module_version": "1.4.0",
      "model_name": "TextModel",
      "state": {
       "layout": "IPY_MODEL_173496b4f6784499b92255c111235ebc",
       "style": "IPY_MODEL_4e7880304d7b42dd8baf541c947ab214",
       "value": "39062500000000"
      }
     },
     "b4e8e91710ca4dd18d72428cc933de71": {
      "model_module": "@jupyter-widgets/base",
      "model_module_version": "1.1.0",
      "model_name": "LayoutModel",
      "state": {}
     },
     "b6334e22cca9411a92d491ced0679d47": {
      "model_module": "@jupyter-widgets/controls",
      "model_module_version": "1.4.0",
      "model_name": "SliderStyleModel",
      "state": {
       "description_width": ""
      }
     },
     "bacbeb50eff54248b8cd112f4dcb2e99": {
      "model_module": "@jupyter-widgets/base",
      "model_module_version": "1.1.0",
      "model_name": "LayoutModel",
      "state": {}
     },
     "bf6b9e1c216c4fa0898fc43bcc78ba19": {
      "model_module": "@jupyter-widgets/controls",
      "model_module_version": "1.4.0",
      "model_name": "SliderStyleModel",
      "state": {
       "description_width": ""
      }
     },
     "bff812568fc84f85bbc1f550bd34bdae": {
      "model_module": "@jupyter-widgets/base",
      "model_module_version": "1.1.0",
      "model_name": "LayoutModel",
      "state": {}
     },
     "c0b986c54b8d4b8c98b7e322121e0191": {
      "model_module": "bqplot",
      "model_module_version": "^0.4.2",
      "model_name": "AxisModel",
      "state": {
       "_model_module_version": "^0.4.2",
       "_view_module_version": "^0.4.2",
       "scale": "IPY_MODEL_e6d985cf5f1046708e81b6c2254cc5ed",
       "side": "bottom",
       "tick_values": {
        "type": null,
        "values": null
       }
      }
     },
     "c72ba427ec184724960e7cfcc707634c": {
      "model_module": "@jupyter-widgets/controls",
      "model_module_version": "1.4.0",
      "model_name": "DescriptionStyleModel",
      "state": {
       "description_width": ""
      }
     },
     "c7d28a8ad106462d9d62422f9de71f11": {
      "model_module": "@jupyter-widgets/controls",
      "model_module_version": "1.4.0",
      "model_name": "ButtonStyleModel",
      "state": {}
     },
     "ca665824f6df44099aea27b590cce97b": {
      "model_module": "@jupyter-widgets/base",
      "model_module_version": "1.1.0",
      "model_name": "LayoutModel",
      "state": {}
     },
     "cae6cda7404e4e43b1b5f9a54b51dcb6": {
      "model_module": "@jupyter-widgets/controls",
      "model_module_version": "1.4.0",
      "model_name": "IntSliderModel",
      "state": {
       "layout": "IPY_MODEL_cfc5b485afb745589b704cc2d82eb42e",
       "max": 200,
       "style": "IPY_MODEL_9640bf9a364a4ed487eeb271b9bfefcc",
       "value": 110
      }
     },
     "cc03d46cbb864808943cc595008007e8": {
      "model_module": "@jupyter-widgets/controls",
      "model_module_version": "1.4.0",
      "model_name": "SliderStyleModel",
      "state": {
       "description_width": ""
      }
     },
     "cc7fcda7fd174a0aadeb85e278baf94c": {
      "model_module": "bqplot",
      "model_module_version": "^0.4.2",
      "model_name": "LinearScaleModel",
      "state": {
       "_model_module_version": "^0.4.2",
       "_view_module_version": "^0.4.2",
       "allow_padding": false,
       "max": 1,
       "min": 0,
       "stabilized": false
      }
     },
     "ce32874ce34145d99e82c56abb54b4de": {
      "model_module": "@jupyter-widgets/base",
      "model_module_version": "1.1.0",
      "model_name": "LayoutModel",
      "state": {}
     },
     "cfc5b485afb745589b704cc2d82eb42e": {
      "model_module": "@jupyter-widgets/base",
      "model_module_version": "1.1.0",
      "model_name": "LayoutModel",
      "state": {}
     },
     "d32c6df9b8bb4233802101bca512674f": {
      "model_module": "@jupyter-widgets/base",
      "model_module_version": "1.1.0",
      "model_name": "LayoutModel",
      "state": {}
     },
     "d52e5bafad3d4a8ba2384e30211e6aa8": {
      "model_module": "@jupyter-widgets/base",
      "model_module_version": "1.1.0",
      "model_name": "LayoutModel",
      "state": {}
     },
     "e09069da1ea34205991a8c229fd2efb7": {
      "model_module": "@jupyter-widgets/base",
      "model_module_version": "1.1.0",
      "model_name": "LayoutModel",
      "state": {}
     },
     "e0ba9c0141944c7591ab7056785c3cb2": {
      "model_module": "@jupyter-widgets/controls",
      "model_module_version": "1.4.0",
      "model_name": "VBoxModel",
      "state": {
       "children": [
        "IPY_MODEL_6e0e88fa49514834a91b2f9b26eed819",
        "IPY_MODEL_4c1952528e5f41b49d6bc85f49acdfb0"
       ],
       "layout": "IPY_MODEL_e09069da1ea34205991a8c229fd2efb7"
      }
     },
     "e6d985cf5f1046708e81b6c2254cc5ed": {
      "model_module": "bqplot",
      "model_module_version": "^0.4.2",
      "model_name": "LinearScaleModel",
      "state": {
       "_model_module_version": "^0.4.2",
       "_view_module_version": "^0.4.2",
       "stabilized": false
      }
     },
     "ec33f008e43c4074b1b650b5fc3c7262": {
      "model_module": "@jupyter-widgets/base",
      "model_module_version": "1.1.0",
      "model_name": "LayoutModel",
      "state": {}
     },
     "ed0fc6c12826493a82dc509b7a269143": {
      "model_module": "@jupyter-widgets/base",
      "model_module_version": "1.1.0",
      "model_name": "LayoutModel",
      "state": {}
     },
     "ee683995b825479780b19eb395d588c7": {
      "model_module": "@jupyter-widgets/base",
      "model_module_version": "1.1.0",
      "model_name": "LayoutModel",
      "state": {}
     },
     "ee7a8f0f5dd14566826b6cefa33298c5": {
      "model_module": "@jupyter-widgets/controls",
      "model_module_version": "1.4.0",
      "model_name": "SliderStyleModel",
      "state": {
       "description_width": ""
      }
     },
     "f19df0b5677047b1b91f16fa94e63fae": {
      "model_module": "@jupyter-widgets/controls",
      "model_module_version": "1.4.0",
      "model_name": "ButtonModel",
      "state": {
       "icon": "legal",
       "layout": "IPY_MODEL_d32c6df9b8bb4233802101bca512674f",
       "style": "IPY_MODEL_0c1eb83b7dc24a44bcf4f7095c13f70d"
      }
     },
     "f19e17395b204b50abef034035f55d49": {
      "model_module": "@jupyter-widgets/controls",
      "model_module_version": "1.4.0",
      "model_name": "SliderStyleModel",
      "state": {
       "description_width": ""
      }
     },
     "f46b30cf44bd4bfcb53e1556717f4fd8": {
      "model_module": "@jupyter-widgets/controls",
      "model_module_version": "1.4.0",
      "model_name": "VBoxModel",
      "state": {
       "_dom_classes": [
        "widget-interact"
       ],
       "children": [
        "IPY_MODEL_ab75b343e75d40c78497174f2f717023",
        "IPY_MODEL_a3e1582c9da04239996a7b02b09218b9",
        "IPY_MODEL_7c56c9a551af443993423f39df475075"
       ],
       "layout": "IPY_MODEL_63fa3af8e0054b30ae60bbfe0bb23ad7"
      }
     },
     "f594cebaf9b94e19a6c9fbe2ebbba2a2": {
      "model_module": "@jupyter-widgets/base",
      "model_module_version": "1.1.0",
      "model_name": "LayoutModel",
      "state": {}
     },
     "f73ad794af5f48f7937196a2cc97ab07": {
      "model_module": "@jupyter-widgets/controls",
      "model_module_version": "1.4.0",
      "model_name": "IntSliderModel",
      "state": {
       "layout": "IPY_MODEL_b1e464d5dba241d097b233811c61208d",
       "max": 200,
       "style": "IPY_MODEL_81134a0ff07c4eaabdf61b7c57e3a477",
       "value": 100
      }
     },
     "f8d7f29fdc1d41f098591c96ad71cd70": {
      "model_module": "@jupyter-widgets/controls",
      "model_module_version": "1.4.0",
      "model_name": "TextModel",
      "state": {
       "layout": "IPY_MODEL_a7c076812674444081af0c10d62937c7",
       "placeholder": "Type something",
       "style": "IPY_MODEL_6c0a7ddfa6a74f4ca2175e30e5bcdfd0",
       "value": "Hello World"
      }
     },
     "f924542d17714cf28bde39de7dfe84d3": {
      "model_module": "@jupyter-widgets/base",
      "model_module_version": "1.1.0",
      "model_name": "LayoutModel",
      "state": {}
     },
     "fbde1733728945e4b2b428d1d20a3ff5": {
      "model_module": "@jupyter-widgets/base",
      "model_module_version": "1.1.0",
      "model_name": "LayoutModel",
      "state": {}
     },
     "fccefec4711c46649f20923ca2a9523b": {
      "model_module": "@jupyter-widgets/controls",
      "model_module_version": "1.4.0",
      "model_name": "SliderStyleModel",
      "state": {
       "description_width": ""
      }
     },
     "ff1a785cfd624896a711c81e235d251e": {
      "model_module": "@jupyter-widgets/base",
      "model_module_version": "1.1.0",
      "model_name": "LayoutModel",
      "state": {}
     }
    },
    "version_major": 2,
    "version_minor": 0
   }
  }
 },
 "nbformat": 4,
 "nbformat_minor": 2
}
