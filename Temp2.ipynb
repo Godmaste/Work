{
 "cells": [
  {
   "cell_type": "code",
   "execution_count": 1,
   "metadata": {},
   "outputs": [
    {
     "data": {
      "text/html": [
       "<script>\n",
       "  function code_toggle() {\n",
       "    if (code_shown){\n",
       "      $('div.input').hide('500');\n",
       "      $('#toggleButton').val('Show Code')\n",
       "    } else {\n",
       "      $('div.input').show('500');\n",
       "      $('#toggleButton').val('Hide Code')\n",
       "    }\n",
       "    code_shown = !code_shown\n",
       "  }\n",
       "\n",
       "  $( document ).ready(function(){\n",
       "    code_shown=false;\n",
       "    $('div.input').hide()\n",
       "  });\n",
       "</script>\n",
       "<form action=\"javascript:code_toggle()\"><input type=\"submit\" id=\"toggleButton\" value=\"Show Code\"></form>"
      ],
      "text/plain": [
       "<IPython.core.display.HTML object>"
      ]
     },
     "metadata": {},
     "output_type": "display_data"
    }
   ],
   "source": [
    "%%html\n",
    "<script>\n",
    "  function code_toggle() {\n",
    "    if (code_shown){\n",
    "      $('div.input').hide('500');\n",
    "      $('#toggleButton').val('Show Code')\n",
    "    } else {\n",
    "      $('div.input').show('500');\n",
    "      $('#toggleButton').val('Hide Code')\n",
    "    }\n",
    "    code_shown = !code_shown\n",
    "  }\n",
    "\n",
    "  $( document ).ready(function(){\n",
    "    code_shown=false;\n",
    "    $('div.input').hide()\n",
    "  });\n",
    "</script>\n",
    "<form action=\"javascript:code_toggle()\"><input type=\"submit\" id=\"toggleButton\" value=\"Show Code\"></form>"
   ]
  },
  {
   "cell_type": "markdown",
   "metadata": {
    "slideshow": {
     "slide_type": "-"
    }
   },
   "source": [
    "# Template 2"
   ]
  },
  {
   "cell_type": "code",
   "execution_count": 2,
   "metadata": {},
   "outputs": [],
   "source": [
    "import satin"
   ]
  },
  {
   "cell_type": "code",
   "execution_count": 3,
   "metadata": {
    "scrolled": true
   },
   "outputs": [],
   "source": [
    "import pandas as pd\n",
    "from IPython.display import display\n",
    "from ipywidgets import HBox, VBox\n",
    "import ipywidgets as widgets\n",
    "from beakerx import *\n",
    "\n",
    "file = open(\"image.png\", \"rb\")\n",
    "image = file.read()\n",
    "\n",
    "html = widgets.HTML(\n",
    "    value='<h3>Some Form + Search</h3>'\n",
    "    '<text>Using the widget layout functions HBox and VBox</text>'\n",
    "    '<br>'\n",
    "    '<text>to display the notebook in a presentable fashion</text>'\n",
    "    '<br>'\n",
    "    '<h4>Some smaller subheading</h4>'\n",
    "    '<text>Contains some text, a button, a figure and a table </text>'\n",
    "    '<text>Contains some text, a button, a figure and a table </text>'\n",
    "    '<text>Contains some text, a button, a figure and a table </text>'\n",
    "    '<text>Contains some text, a button, a figure and a table </text>'\n",
    "    '<text>Contains some text, a button, a figure and a table </text>'\n",
    "    '<text>Contains some text, a button, a figure and a table </text>'\n",
    "    '<text>Contains some text, a button, a figure and a table </text>'\n",
    "    '<text>Contains some text, a button, a figure and a table </text>'\n",
    "    '<text>Contains some text, a button, a figure and a table </text>'\n",
    ")\n",
    "\n",
    "html2 = widgets.HTML(\n",
    "    value='<h3>Some Buttons</h3>'\n",
    "    '<text>Using the widget layout functions HBox and VBox</text>'\n",
    "    '<br>'\n",
    "    '<text>to display the notebook in a presentable fashion</text>'\n",
    "    '<br>'\n",
    "    '<h4>Some smaller subheading</h4>'\n",
    "    '<text>Contains some text, a button, a figure and a table </text>'\n",
    ")\n",
    "\n",
    "image = widgets.Image(\n",
    "    value=image,\n",
    "    format='png',\n",
    ")\n",
    "\n",
    "button = widgets.Button(\n",
    "    description='Some Button',\n",
    "    disabled=False,\n",
    "    button_style='',\n",
    "    tooltip='Click me',\n",
    "    icon='check'\n",
    ")\n",
    "\n",
    "text = widgets.Text(\n",
    "    value='Hello World',\n",
    "    placeholder='Type something',\n",
    "    description='',\n",
    "    disabled=False\n",
    ")\n",
    "\n",
    "form1 = EasyForm(\"Form and Run\")\n",
    "form1.addTextField(\"first\", 15)\n",
    "form1['first'] = 'Beaker'\n",
    "form1.addTextField(\"middle\", 15)\n",
    "form1.addTextField(\"last\", 15)\n",
    "form1.addButton(\"Go!\", \"run\")\n",
    "\n",
    "form2 = EasyForm(\"Form 2 and Run\")\n",
    "form2.addTextField(\"first\", 15)\n",
    "form2['first'] = 'Beaker'\n",
    "form2.addTextField(\"middle\", 15)\n",
    "form2.addTextField(\"last\", 15)\n",
    "form2.addButton(\"Go!\", \"run\")\n",
    "\n",
    "table = widgets.Output()\n",
    "with table:\n",
    "    display(pd.DataFrame({\"A\": [\"foo\", \"foo\", \"foo\", \"foo\", \"foo\",\n",
    "                         \"bar\", \"bar\", \"bar\", \"bar\"],\n",
    "                   \"B\": [\"one\", \"one\", \"one\", \"two\", \"two\",\n",
    "                          \"one\", \"one\", \"two\", \"two\"],\n",
    "                   \"C\": [\"small\", \"large\", \"large\", \"small\",\n",
    "                      \"small\", \"large\", \"small\", \"small\",\n",
    "                         \"large\"],\n",
    "                 \"D\": [1, 2, 2, 3, 3, 4, 5, 6, 7]}))\n",
    "\n",
    "l = list(open(\"z.txt\"))\n",
    "\n",
    "dp1 = widgets.Text(value = \"\", description = \"Search: \")\n",
    "dp2 = widgets.Dropdown(options = l)\n",
    "combo = widgets.VBox([dp1, dp2])\n",
    "def combobox(x):\n",
    "    global dp1\n",
    "    global dp2\n",
    "    dp2.options = l\n",
    "    search = dp1.value\n",
    "    dp2.index = None #This line is very important for setting the values for widgets other than widget with observe method\n",
    "    dp2.index = 0\n",
    "    output = []\n",
    "    for j in dp2.options:\n",
    "        if search in j:\n",
    "            output.append(j)\n",
    "    if len(output) == 0:\n",
    "        dp2.options = [\"No Items Found\"]\n",
    "    else:\n",
    "        dp2.options = output\n",
    "\n",
    "emptywidget = widgets.Output()\n",
    "            \n",
    "dp1.observe(combobox)"
   ]
  },
  {
   "cell_type": "code",
   "execution_count": 4,
   "metadata": {},
   "outputs": [
    {
     "data": {
      "application/vnd.jupyter.widget-view+json": {
       "model_id": "16dcea8520a340538fdfe0110ded50ff",
       "version_major": 2,
       "version_minor": 0
      },
      "text/plain": [
       "VBox(children=(HBox(children=(HTML(value='<h3>Some Form + Search</h3><text>Using the widget layout functions H…"
      ]
     },
     "metadata": {},
     "output_type": "display_data"
    }
   ],
   "source": [
    "satin.create_panel([[html, VBox([form1, combo])], [VBox([button, button, button]), emptywidget, html2]], #widgets\n",
    "                   [[0, 0], [0, 0, 0]], #stretch \n",
    "                   [['top', 'center'], ['center', 0, 'center']], #vertical align\n",
    "                   ['center', 'center'], #horizontal align\n",
    "                   0, 0, #height width (0, 0 for default)\n",
    "                   [[[400,300],[0,0]], [[0,0],[50, 50],[0,0]]] #widget [height, width]\n",
    "                  )"
   ]
  },
  {
   "cell_type": "code",
   "execution_count": 5,
   "metadata": {},
   "outputs": [
    {
     "data": {
      "text/html": [
       "<script>\n",
       "  $(document).ready(function(){\n",
       "    $('div.prompt').hide();0\n",
       "    $('div.back-to-top').hide();\n",
       "    $('nav#menubar').hide();\n",
       "    $('.breadcrumb').hide();\n",
       "    $('.hidden-print').hide();\n",
       "  });\n",
       "</script>"
      ],
      "text/plain": [
       "<IPython.core.display.HTML object>"
      ]
     },
     "metadata": {},
     "output_type": "display_data"
    }
   ],
   "source": [
    "%%html\n",
    "<script>\n",
    "  $(document).ready(function(){\n",
    "    $('div.prompt').hide();0\n",
    "    $('div.back-to-top').hide();\n",
    "    $('nav#menubar').hide();\n",
    "    $('.breadcrumb').hide();\n",
    "    $('.hidden-print').hide();\n",
    "  });\n",
    "</script>"
   ]
  },
  {
   "cell_type": "code",
   "execution_count": null,
   "metadata": {},
   "outputs": [],
   "source": []
  }
 ],
 "metadata": {
  "hide_input": false,
  "kernelspec": {
   "display_name": "Python 3",
   "language": "python",
   "name": "python3"
  },
  "language_info": {
   "codemirror_mode": {
    "name": "ipython",
    "version": 3
   },
   "file_extension": ".py",
   "mimetype": "text/x-python",
   "name": "python",
   "nbconvert_exporter": "python",
   "pygments_lexer": "ipython3",
   "version": "3.7.1"
  },
  "toc": {
   "base_numbering": 1,
   "nav_menu": {},
   "number_sections": false,
   "sideBar": true,
   "skip_h1_title": false,
   "title_cell": "Table of Contents",
   "title_sidebar": "Contents",
   "toc_cell": false,
   "toc_position": {
    "height": "586px",
    "left": "21px",
    "top": "246px",
    "width": "310px"
   },
   "toc_section_display": true,
   "toc_window_display": false
  },
  "widgets": {
   "application/vnd.jupyter.widget-state+json": {
    "state": {
     "0d488249598f4bd4a18e1bee4736a541": {
      "buffers": [
       {
        "data": "iVBORw0KGgoAAAANSUhEUgAAAQwAAAC8CAMAAAC672BgAAABJlBMVEX////y8vLz8/Pn5+f5+fn8/Pz29vb/AADt7e3v7+/q6ur8///y+Pjy9fWpqanLy8u2trbx/Pz/oqL/9vb/k5P/MTH/6Oj/1tb/gID/zMz///v/e3v///j/ra3m9PT/7e3/b2//VFT/KCjW5vD/YmL/s7P/2dn/RETg29SNjIrCwL+enZ7n497/wcH/iIjG0+CspqF5d3X/FBT/nJy8tq/M0timrLL/Pj7x3t60ucBzcXb/ubmCcWTXzsaDjpSisb+inphZVFuywc/58+TWz8qrsbfEtabQ3uyboKWtpZhKR03LzM99iJOShntcWlnEvrZlVFVfa3GFdGVteoByYVxgXFmXjITo2svTxLW2yMymucGSm6eUj4tta2Ta2tny6Ng1OEjpoaHdGaCBAAARfklEQVR4nO1di0PaSBPfRMISSJTIG3wAojy1CIhaD2sVe/Raz7vrXfU+Obz7//+JLzubhCTmhY+CMdumYZPJ7OSXeWUzSREKWtAsW/799Sn6fj5vMRajRfdHveF5fd5iLEirN8d88478WmIYJir/5RmG/PS48FHPpJHITJxdhCHc9EK4yK2SaH2TMBECQTS/hFoxAENeWITCHEIM8rxwIc+kIe+ksDgLQ7hp/TD8deQWptychNE19/EtwQgvABhc2FVujp0JjEdqhj/BYAMwAs3Qg8EcoOEkAIOCUR/nfxERerSZ+Cqa1P7a4PZBM7TQzi6xnhc5fnsllTODWTi7CEPyDJ0QbnKrWYuNMEwUwOiN1uoHyNPF8L9maC36ODB85TO0FjhQXQvyjEAzDGC0DtD1U0Krr8Con7X6d0/QDF9Fk9pfNTq54+88g/eUZ1yP0Nm7J5iJrzRDa4EDDcCwBiOIJoFmWIPhPr7/weidon24a/X3jZq3aPL5W75+SX7woVBIXphwKBQJeV7CjGdSlp2Js4swhJsmhEzKu8itkNgJwwMY9XHkyyn54T7+U8HwTvr8YITNYJiEoWCEJ2hI1MfnDnTGpCsIrbrmb80IwHg8GIGZQJ5xde5/zfCaZ9zT+YxoOByOhMM8Gw6Tnx4Xhn8J0rC7MDwz/c3KpBEXuRVudsJAfQYaj6O0WIXnOI7hODbEceSnxyXEeiYNh2fi7CIM4aYJIZMyznKHFG62wgAYWrFKkI7rWuBAdc3fDjQIrY8Hw98+wxsYg2asDfMZgZnI7XTt4xZCwaMC0m7O8ygoVlEeItW28mdbTzATX2mG1oJoomuBAw00I9AMOzCG8VhQrKJpRv3iMihWUcC4Ob8PilXUPGOwFRSrTM1EbYEDDcCwBiOIJoFmPAADHjzzARjo8wj9SpTC5zNd3qLJT81QA5Iuj0Ufjy+6mLE+w0UY5iXqM9r7YnMEZsKp9SGc/NPrEma8k7IzcXYRhhSr6En5kBdudsIoYKguIzATfQtCq64FoVXX/G0mHsEIoxCs36aZCLLHnILRHq3V++SHv83EyoFK8pHbVZwTNDB+qte0YhVWXiLMSxWr8LMVq7gIQ7jNUKwCJLr6Fl7KlkqVCsbJLD4S1GKVz+9D+x8QYMNxMj5y/JUzc89LKIy8k87EmQgTtheGVJtopLISsZwzNxZOTetLe3gvm81mJBQrYS6m+gy1+dxMTD4jh3eRah6dQ9VMtPa2HCjOTndv4uLb0gzO6EBLODbdLewcvi3NiEm5bUkFQ+ri9BvOQNNZjPF2TOnv4pOYJRi1PvJ9sYq0jkvbqIt3aH8T79lkoFf9tY8Aho8fFWTwNgkdRZyAPi7ZpePMpy2fF6uwPK5IMjdWKJclaUM67GzYPkS6RL4uVhERKnUoSSiBO6lUB2+Kb3Q+g+PRKj5S8ozYZne1203bCaNrPnSgbAKTti3oki7BXhh/a4ZUSKUzOxkgefMzXRmcIT7DOxgkz3iKA11MMLo5SV6Xi1MST2B87yv1GT7KM4QcxqsIrSt5hUbiCkbk08oxvOS7uHmGKEQEgSye8wy8t40LAu4KMxar1I5Rb8HLpdOrSuNEb5qRxWTCApcFE8nrd6Aswp0yNFw+sgZD7zNE4jdzsqlsdjI67HwSTST5OhNvKCGuSm61yC5hF8cswJB2cFbGCxct5PRHsUoOZ7RNRbwL6yOM12NGIQjpNi5W8V4B808GY+E0Q6TC4MJ0k9TFSaIluLTeMYMRQ0kSQnKH07n/x4DBwVOkhStWOdrblWKogA2bd3EFydu4hKwjBiGkRAWfAISblnJ6AiP/79OKVV4qmiQK+FA2BnCG+l1pfHgiGw7aq1J5iT+JSShdxKm0hUZoi6do0jtFjTnnGeEqT9bRXFFSt20kcTknMV2MixtGcrHVwXsbrHiEMyK70cVqq2Yk0VlOL19w+0UpVplbniGHhiyECzrTANuIQsjXORbbBrn05CJaJ9tilRKSHerq9jq0HclFgFeSZ0hFCJloFVeT2nOdopsw3BFOl8hxBDPhuUsSmHmBIeBcUXYACby9ixUw4K7C5d4kVtKSMB/VZ2QwtykHgmJKDpk0RHB43VWYUGynqKbnPqrc2SvJC85AiCjBtmxHcgfjRYpVOLjHmWMGWpZTJbGDixKJm7J5CGmcE+cDRv7fpxWrPDmabOI0RJQEASDVJbl2xcOVeZFXLHqn6pdVWJaVFzn+kmcNXhc+4p2Ut9osrGNJHlgQ5SyBFf7DUg5XhfCSIozlIRo39Tcjk0ad5VZJ7IShxSqNX0S1WEXTpRk0I/RkMynt6foiLmK1P4OZQLHKM5iJ1ublQA35tpDFJ2r6NM/SxzndqOWwvs8mdqa/5wjGXPIMCWUrdon0GwMjWakU8YndvaZ/zUTa5MzjS0mcLRQKnPlObI5gDC5/RLFKooD3zMUyJ7qCuwUBg9m3L1YhmwSUe3AXrR/EQ9IlJrL4MIkTRnF3cNf5sDkkXdHPGzHLYhVREKOiuJPFOBd94uQOTuU2pPKeoN8MFSTeHiLZTRXZP0R67OTO4Nj6WauUOaQzSLuHqw7K7EUzUmXCeVdfbciiUtnJROakGVozmslJChcyuUwuIaFK1gkMd5+hlVKtTjfL9yKbovNhi/LyjXzdcDKBlMf59pmAJzBW1SK79Y5uM066KtSC5BlSFm9OAdjGTwBDzGj5dQifaJuT2FWh5gqGbvx1+X5hSmVMmGcEQ0oV1N+xZFn9CU89FhCMwcNilR0y6zalSuMjh0FcwNiRHYZKmsDqo+DSoQsQcwIjvG8qVoklzA9uzc9xDIO4RJNSZTp+rFCWFF1zgPcRYDxbNFlq14zFKkIxZXxuI5W7glP8tt4lktIS8QgfidPQnsD/EU4Czm7YZwTzzDNIsUpUpxkhDmdMobRUmF0zpPQJCUaFQ8PFIH4TCasYuYXVOWmG1hSfIZxgM1W25ACGhc8QUWI7hXGFkR1lzjg+yTU28bYrELOB8WJ5hpR6kAGsY4dBLMA4KmA5TUnjVKJblozjb8usyAOSRQdDMZP01P2rS24mMNIFfJght6MJWTv0kxXw9iTu7qjlN4sMhpJ0EZswUaX1JYQuYAgZXFJNQyhis/hyGp4qegBiTmDwE1SD+gzFTIiVm6nIwy6PYBzhguYdWd3bxNr4KRxZXDBWvgu/wMcjqJnsWplEZ91+EBPTTtVRfNmKrIqMngjGs0WT/Cniv4JmsIIQkarZhzmFVN0THOK3PiUpYXg4Y5cZkNTDqaRk3nnG1YitH4NmcN1kMomPYg8hK1RsETdqRtIptZzfa1meNUNr0c1UtVotSBbjr3ZsB9H7DDFtWWj38mC8zF2rZM00Z3/DrQdDSlWc5HlNYDg8N9l5mHtYgXFiT/bawHB4VBDBO7aD6MDASUd5XgEYnAhB1bFYRbK/m9CBseeQqL4SMHp1vu72pVipajtjOY0mm/qa3R8LxvNFk7r7l2I3ikXBJc+IiqlDl0mKV/Cl2D/uQlcfXMxEWE05aQYJp0eY1iG9cs1Qm4OZiLsP5jg0MKQsTm7Kwdc+DX95MH7oU3hRjq02z1tjXbx6iKvYYTLsNYIRsR+fRbQY0WKQnBxopM3kulvp9isDw7FYZVrVbVzSpBzN49m9JjAci1W6KatLL3KdksV93SsGY/D3eELWjsUqGav3vtBRpzzDGb4GMD6NlFt4x/GtMqp1XEFW36754WA8X2i9uJu4v4n0cNInIhTxqsS+gi+rzJB0oXx0KLiaCdQTGLaddDB5+2ch34V/vGaozdlMdvQz5KJsITjJqeY6dzB++Psm+iKCoxRe17334kMwXIpiK9N3bTO4mlArAH0KhrOZ6IqQdvUlCz4DY3D8/ZysXcxEnfqTkrgrGeXwERif9j19WUWd7SLv5utu2nwWTS7qIzrT5fzG80axKEUEpowzgil++yrP4GsxD5ohnODV5CruRE3q5y/NUJuLz2ATpcNUqmiuufGZz/AIBlks7lx9CoaLmdgN4k8wFu7LKvMBY6gvVnnjYKzpi1VmBsNn0YRjabHKwn7B7QfmGWjNy0zXW9EMpQU+Q9cW7tNUCzyf8bbACMwEGp0QDjJQ0i76z/LfGnO65WXBgFFkbtPRni+aaF9WiTLyEuGZaJSN8PJP5z88D/9G2GhUjuLK0dZ/IjJplOUJT4aPOJICzyjhORXDUhjD8O481VMzCKPbrZnJ93coaEELmpcWirbgawnh6ABe7WQicZgOjEbidHeNfkwheg3Bp3fcgMOu+0NJ18+fHcC61YwC+XBUA27X9UsgH45HwLVH7wHQWR3ILupjIKuNm8C92Ybnv2vNJj2s2QYnfzEaw2G1/nc47Dq+D4NPekC2NqFfv0CT9jHtn0G/NWnCjflk2ITBG0P4GFf+Sw/IBkvNDRMY9/0aPDK4PaBfm25P6JHjyTJZ3XwYgGvpHbThyCb/OxzWZv8EeZot6F98GMBp3Lz7BGVzPfEP4NaMtIFbe+lW7YO4fYZyPw73KfcbGKV2dU6x+w2Yo9pP1K9df4Q+1/vGwZWhmKHvx5Tb+5+BG7o6h/XF+y1YD75dALveKR38+tcRlf13wLD1T3PLBAa/vEwvTnw5RlGnF6UX/wJHXC6LIF68r2yml9bUzy/HDwzcLlVuI4W8bui36WGJ5TYF4XJM9a5h4Gbuy8LwlJvCne5GcWvyi8u25am1jaema7VR+2egvKSa2lbEHdMjB33K8DpOFUbd3VP6ZxSUtSY9O41b3MjN1M8r5K0RVfBB/2zDghtq0v5Fk4pvI4zKzVYY51PTg9HvvaMon9EjVpr0iAYwHlxShr0GZXi2ooDRUMCg/bURvSg3NtxMh+ebDZDnvt+jYBzT/3nGxA01G9C/UPo2wqjctMObzsJMT80MBhunqqfq0lBBuadppkh30/GuNTNR+3DN8oqmMjbczIcr5InlZZheaWmKbOCm2qqs91tOwqjkLsI0TKcWXxZMYDBNBnbV+i2qgsdDqoIHK3BEM0LDw2VNoLtXKBiXSjT5Av18ewuiCd/kKbmJ27Bf29AfrnAPNyMgfm1EyU3cZMcK/bXmllkYK24PhXE+tRHlpmua/+ep/z/jP8IRd61vZHX782fwyG3mTxpNoko0YX7TR5M1czThfzJwUw8/i/wK5Hc1mHO8P/8EsfN66+qdjpsam9CICnHx4fbOQRiVm1dh7mqGU9O14SUQyLDBKr9M0YosLxl294y75YsAq4TSbymO2Yab+fDWsvJGvqKoCrmZG0NDk0ZmI4zKzaMw5lMzNMVZheIqK1UCUb87rO2mrNi4UZIhtUs7bubDh8r5Ka4vT639AbcatXpNcBthVG4ehVFOLa/snrZ8HNGPsU8awHBCE1I0aCzR3fSA1heeGv8WHb41gQQVTWiCihoN+mlN5aLxxwngVjtoKeSNmJ77NeUuuzxYscd5Ucc9P1mBGlW0NKTSxxuiQZi/ecFIfmASJuokzGRIHWgobsKCWA4Y1uD0HxquTiH+5Ed0/ennW8Wa96mZDr/Rs6j/DmfXbALZxfIdrG/f3YAdnrX2acZZew9kg/p7yp2Sryncb87vYfD2EvUZI2rs+fpv9KwU7vfLdyMHYfLjP//Wkz8U5sogzPif/1GZGub79nyd6k6od0dR/wvEQ5/3KeVwBdAPCQPqwC+pXvNtSjb4lZJ9pyevkufFG+jf9mmiytKbDFT7i/qsM4V7japAnqfkWn67Lxi4Xxm5m4UZ1jdmEaZGb4jQ1TcTFuj2XIFv6zOQ1DmY80FfQ7C+OaUu9/MlvRh1uhmNxXFMR35xx8C1u/naA5A+9enF0Mh5mvco5GunYVCB+2+U/HZEJ1cUcpnbnV6I+w+tkYMwa19ZGnw8CvOVDq7qmb4pdqY8ekX5Feo3+RULXyu7LmV3fiWi9EOwbn2xota4IXqNUEjpR6zJ2RXBwI1RhLDhbubmURj11CYTS7K33P4PCbxw1uUOsw0AAAAASUVORK5CYII=",
        "encoding": "base64",
        "path": [
         "value"
        ]
       }
      ],
      "model_module": "@jupyter-widgets/controls",
      "model_module_version": "1.4.0",
      "model_name": "ImageModel",
      "state": {
       "height": "300",
       "layout": "IPY_MODEL_2d5b9a92e8ba40a78c33b9311417d283",
       "value": {},
       "width": "400"
      }
     },
     "0fb6fbffc8044111bb3cc9dfb8e0ad8e": {
      "model_module": "@jupyter-widgets/controls",
      "model_module_version": "1.4.0",
      "model_name": "DescriptionStyleModel",
      "state": {
       "description_width": ""
      }
     },
     "13bb576137b34de0b156765a8092c3c1": {
      "model_module": "@jupyter-widgets/controls",
      "model_module_version": "1.4.0",
      "model_name": "HBoxModel",
      "state": {
       "children": [
        "IPY_MODEL_e0ba9c0141944c7591ab7056785c3cb2",
        "IPY_MODEL_70274f8bc2e245578cdd10fbb5e9c462"
       ],
       "layout": "IPY_MODEL_ed0fc6c12826493a82dc509b7a269143"
      }
     },
     "2d5b9a92e8ba40a78c33b9311417d283": {
      "model_module": "@jupyter-widgets/base",
      "model_module_version": "1.1.0",
      "model_name": "LayoutModel",
      "state": {}
     },
     "4c1952528e5f41b49d6bc85f49acdfb0": {
      "model_module": "@jupyter-widgets/controls",
      "model_module_version": "1.4.0",
      "model_name": "ButtonModel",
      "state": {
       "description": "Some Button",
       "icon": "check",
       "layout": "IPY_MODEL_9d09251fd5b746f68eb580e0c675d11c",
       "style": "IPY_MODEL_c7d28a8ad106462d9d62422f9de71f11",
       "tooltip": "Click me"
      }
     },
     "61997801421d49e8aa10053fcc02c236": {
      "model_module": "@jupyter-widgets/base",
      "model_module_version": "1.1.0",
      "model_name": "LayoutModel",
      "state": {}
     },
     "6c0a7ddfa6a74f4ca2175e30e5bcdfd0": {
      "model_module": "@jupyter-widgets/controls",
      "model_module_version": "1.4.0",
      "model_name": "DescriptionStyleModel",
      "state": {
       "description_width": ""
      }
     },
     "6e0e88fa49514834a91b2f9b26eed819": {
      "model_module": "@jupyter-widgets/controls",
      "model_module_version": "1.4.0",
      "model_name": "HTMLModel",
      "state": {
       "layout": "IPY_MODEL_ee683995b825479780b19eb395d588c7",
       "style": "IPY_MODEL_0fb6fbffc8044111bb3cc9dfb8e0ad8e",
       "value": "<h3>Some Subheading</h3><text>Using the widget layout functions HBox and VBox</text><br><text>to display the notebook in a presentable fashion</text><br><h4>Some smaller subheading</h4><text>Contains some text, a button, a figure and a table </text><br><text>fkdsajfjdskakfdsafs This is html This is html This is html </text><br><text>More text This is html This is html This is html </text><br><text>fkdsajfjdskakfdsafs This is html This is html This is html </text><br><text>fkdsajfjdskakfdsafs This is html This is html This is html </text>"
      }
     },
     "70274f8bc2e245578cdd10fbb5e9c462": {
      "model_module": "@jupyter-widgets/controls",
      "model_module_version": "1.4.0",
      "model_name": "VBoxModel",
      "state": {
       "children": [
        "IPY_MODEL_0d488249598f4bd4a18e1bee4736a541"
       ],
       "layout": "IPY_MODEL_61997801421d49e8aa10053fcc02c236"
      }
     },
     "9d09251fd5b746f68eb580e0c675d11c": {
      "model_module": "@jupyter-widgets/base",
      "model_module_version": "1.1.0",
      "model_name": "LayoutModel",
      "state": {}
     },
     "a7c076812674444081af0c10d62937c7": {
      "model_module": "@jupyter-widgets/base",
      "model_module_version": "1.1.0",
      "model_name": "LayoutModel",
      "state": {}
     },
     "c7d28a8ad106462d9d62422f9de71f11": {
      "model_module": "@jupyter-widgets/controls",
      "model_module_version": "1.4.0",
      "model_name": "ButtonStyleModel",
      "state": {}
     },
     "e09069da1ea34205991a8c229fd2efb7": {
      "model_module": "@jupyter-widgets/base",
      "model_module_version": "1.1.0",
      "model_name": "LayoutModel",
      "state": {}
     },
     "e0ba9c0141944c7591ab7056785c3cb2": {
      "model_module": "@jupyter-widgets/controls",
      "model_module_version": "1.4.0",
      "model_name": "VBoxModel",
      "state": {
       "children": [
        "IPY_MODEL_6e0e88fa49514834a91b2f9b26eed819",
        "IPY_MODEL_4c1952528e5f41b49d6bc85f49acdfb0"
       ],
       "layout": "IPY_MODEL_e09069da1ea34205991a8c229fd2efb7"
      }
     },
     "ed0fc6c12826493a82dc509b7a269143": {
      "model_module": "@jupyter-widgets/base",
      "model_module_version": "1.1.0",
      "model_name": "LayoutModel",
      "state": {}
     },
     "ee683995b825479780b19eb395d588c7": {
      "model_module": "@jupyter-widgets/base",
      "model_module_version": "1.1.0",
      "model_name": "LayoutModel",
      "state": {}
     },
     "f8d7f29fdc1d41f098591c96ad71cd70": {
      "model_module": "@jupyter-widgets/controls",
      "model_module_version": "1.4.0",
      "model_name": "TextModel",
      "state": {
       "layout": "IPY_MODEL_a7c076812674444081af0c10d62937c7",
       "placeholder": "Type something",
       "style": "IPY_MODEL_6c0a7ddfa6a74f4ca2175e30e5bcdfd0",
       "value": "Hello World"
      }
     }
    },
    "version_major": 2,
    "version_minor": 0
   }
  }
 },
 "nbformat": 4,
 "nbformat_minor": 2
}
